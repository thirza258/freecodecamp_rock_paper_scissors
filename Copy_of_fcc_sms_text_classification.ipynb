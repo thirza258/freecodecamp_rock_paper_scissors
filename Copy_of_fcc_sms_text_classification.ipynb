{
  "cells": [
    {
      "cell_type": "markdown",
      "metadata": {
        "id": "view-in-github",
        "colab_type": "text"
      },
      "source": [
        "<a href=\"https://colab.research.google.com/github/thirza258/freecodecamp_rock_paper_scissors/blob/main/Copy_of_fcc_sms_text_classification.ipynb\" target=\"_parent\"><img src=\"https://colab.research.google.com/assets/colab-badge.svg\" alt=\"Open In Colab\"/></a>"
      ]
    },
    {
      "cell_type": "code",
      "execution_count": null,
      "metadata": {
        "id": "8RZOuS9LWQvv"
      },
      "outputs": [],
      "source": [
        "# import libraries\n",
        "try:\n",
        "  # %tensorflow_version only exists in Colab.\n",
        "  !pip install tf-nightly\n",
        "except Exception:\n",
        "  pass\n",
        "import tensorflow as tf\n",
        "import pandas as pd\n",
        "from tensorflow import keras\n",
        "!pip install tensorflow-datasets\n",
        "import tensorflow_datasets as tfds\n",
        "import numpy as np\n",
        "import matplotlib.pyplot as plt\n",
        "\n",
        "print(tf.__version__)"
      ]
    },
    {
      "cell_type": "code",
      "execution_count": null,
      "metadata": {
        "id": "lMHwYXHXCar3"
      },
      "outputs": [],
      "source": [
        "# get data files\n",
        "!wget https://cdn.freecodecamp.org/project-data/sms/train-data.tsv\n",
        "!wget https://cdn.freecodecamp.org/project-data/sms/valid-data.tsv\n",
        "\n",
        "train_file_path = \"train-data.tsv\"\n",
        "test_file_path = \"valid-data.tsv\""
      ]
    },
    {
      "cell_type": "code",
      "execution_count": null,
      "metadata": {
        "id": "g_h508FEClxO"
      },
      "outputs": [],
      "source": [
        "import pandas as pd\n",
        "\n",
        "df_train = pd.read_csv(train_file_path, sep='\\t')\n",
        "\n",
        "df_train = df_train.rename(columns={df_train.columns[0]: 'class', df_train.columns[1]: 'messages'})\n",
        "\n",
        "# Display the updated DataFrame to verify the changes\n",
        "df_train.head()\n",
        "\n"
      ]
    },
    {
      "cell_type": "code",
      "execution_count": null,
      "metadata": {
        "id": "zOMKywn4zReN"
      },
      "outputs": [],
      "source": [
        "\n",
        "df_test = pd.read_csv(test_file_path, sep='\\t')\n",
        "\n",
        "df_test = df_test.rename(columns={df_test.columns[0]: 'class', df_test.columns[1]: 'messages'})\n",
        "\n",
        "# Display the updated DataFrame to verify the changes\n",
        "df_test.head()"
      ]
    },
    {
      "cell_type": "code",
      "source": [
        "from tensorflow.keras import layers, Sequential\n",
        "\n",
        "model = Sequential([\n",
        "    # Embedding layer to convert words to dense vectors\n",
        "    layers.Embedding(input_dim=10000, output_dim=32, input_length=20),  # Increased output_dim for better representation\n",
        "    layers.GlobalAveragePooling1D(),  # Reduce dimensionality after embedding\n",
        "    layers.Dense(64, activation='relu'),  # Increased the size of the dense layer\n",
        "    layers.Dropout(0.3),  # Dropout to prevent overfitting\n",
        "    layers.Dense(32, activation='relu'),  # Another dense layer for more complex patterns\n",
        "    layers.Dense(1, activation='sigmoid')  # Output layer with sigmoid for binary classification\n",
        "])"
      ],
      "metadata": {
        "id": "jhnAiWfYkINm"
      },
      "execution_count": null,
      "outputs": []
    },
    {
      "cell_type": "code",
      "source": [
        "df_train['class'] = df_train['class'].map({'ham': 0, 'spam': 1})\n",
        "df_test['class'] = df_test['class'].map({'ham': 0, 'spam': 1})"
      ],
      "metadata": {
        "id": "Xym6hV5Rkw_L"
      },
      "execution_count": null,
      "outputs": []
    },
    {
      "cell_type": "code",
      "source": [
        "import pandas as pd\n",
        "from tensorflow.keras.preprocessing.text import Tokenizer\n",
        "from tensorflow.keras.preprocessing.sequence import pad_sequences\n",
        "from imblearn.over_sampling import ADASYN\n",
        "from tensorflow.keras.models import Sequential\n",
        "from tensorflow.keras import layers\n",
        "\n",
        "# Assuming df_train is your DataFrame with 'messages' and 'class' columns\n",
        "\n",
        "# Step 1: Check class proportions\n",
        "class_proportions = df_train['class'].value_counts(normalize=True)\n",
        "print(\"Original class proportions:\")\n",
        "print(class_proportions)\n",
        "\n",
        "# Step 2: Tokenize and pad the messages\n",
        "tokenizer = Tokenizer(num_words=1000, oov_token=\"<OOV>\")\n",
        "tokenizer.fit_on_texts(df_train['messages'])\n",
        "sequences = tokenizer.texts_to_sequences(df_train['messages'])\n",
        "padded_sequences = pad_sequences(sequences, maxlen=20, padding='post')\n",
        "\n",
        "# Step 3: Define features and target\n",
        "X_train = padded_sequences  # Use the padded sequences as features\n",
        "y_train = df_train['class']  # The target is the 'class' column\n",
        "\n",
        "# Step 4: Initialize the ADASYN sampler\n",
        "adasyn = ADASYN(sampling_strategy='minority', random_state=42)\n",
        "\n",
        "# Step 5: Fit and resample the data\n",
        "X_resampled, y_resampled = adasyn.fit_resample(X_train, y_train)\n",
        "\n",
        "# Step 6: Check the new class proportions\n",
        "resampled_class_proportions = pd.Series(y_resampled).value_counts(normalize=True)\n",
        "print(\"\\nResampled class proportions:\")\n",
        "print(resampled_class_proportions)\n",
        "\n",
        "# Step 7: Combine the resampled data back into a DataFrame\n",
        "# Reverse the tokenization to get the messages back\n",
        "reverse_tokenizer = {v: k for k, v in tokenizer.word_index.items()}\n",
        "def sequence_to_text(sequence):\n",
        "    return ' '.join([reverse_tokenizer.get(i, '<OOV>') for i in sequence])\n",
        "\n",
        "resampled_messages = [sequence_to_text(seq) for seq in X_resampled]\n",
        "\n",
        "# Create the final DataFrame with messages and class\n",
        "resampled_df = pd.DataFrame({\n",
        "    'messages': resampled_messages,\n",
        "    'class': y_resampled\n",
        "})\n",
        "\n",
        "# Display the first few rows of the resampled DataFrame\n",
        "print(resampled_df.head())"
      ],
      "metadata": {
        "id": "FPeYanNXn-dR"
      },
      "execution_count": null,
      "outputs": []
    },
    {
      "cell_type": "code",
      "source": [
        "model.compile(optimizer='adam', loss='binary_crossentropy', metrics=['accuracy'])"
      ],
      "metadata": {
        "id": "fjMdofI_lNmK"
      },
      "execution_count": null,
      "outputs": []
    },
    {
      "cell_type": "code",
      "source": [
        "model.fit(X_resampled, y_resampled, epochs=10, verbose=1)"
      ],
      "metadata": {
        "id": "UNLBIhmrlQZo"
      },
      "execution_count": null,
      "outputs": []
    },
    {
      "cell_type": "code",
      "source": [
        "# 1. Tokenize and pad test messages\n",
        "test_sequences = tokenizer.texts_to_sequences(df_test['messages'])\n",
        "test_padded_sequences = pad_sequences(test_sequences, maxlen=20, padding='post')\n",
        "\n",
        "# 2. Make predictions\n",
        "predictions = model.predict(test_padded_sequences)\n",
        "\n",
        "# 3. Convert predictions to labels (0 or 1)\n",
        "predicted_labels = (predictions > 0.5).astype(int)\n",
        "\n",
        "# 4. Create a DataFrame for comparison\n",
        "comparison_df = pd.DataFrame({'Actual': df_test['class'], 'Predicted': predicted_labels.flatten()})\n",
        "\n",
        "# 5. (Optional) Display or further analyze the comparison DataFrame\n",
        "comparison_df.head()  # Display the first few rows"
      ],
      "metadata": {
        "id": "Oa4yAmiGlfZq"
      },
      "execution_count": null,
      "outputs": []
    },
    {
      "cell_type": "code",
      "source": [
        "from sklearn.metrics import confusion_matrix\n",
        "import seaborn as sns\n",
        "import matplotlib.pyplot as plt\n",
        "\n",
        "# Assuming you have 'comparison_df' with 'Actual' and 'Predicted' columns\n",
        "\n",
        "# Create the confusion matrix\n",
        "conf_matrix = confusion_matrix(comparison_df['Actual'], comparison_df['Predicted'])\n",
        "\n",
        "# Plot the confusion matrix using Seaborn\n",
        "plt.figure(figsize=(8, 6))\n",
        "sns.heatmap(conf_matrix, annot=True, fmt='d', cmap='Blues',\n",
        "            xticklabels=['Ham', 'Spam'], yticklabels=['Ham', 'Spam'])\n",
        "plt.xlabel('Predicted')\n",
        "plt.ylabel('Actual')\n",
        "plt.title('Confusion Matrix')\n",
        "plt.show()"
      ],
      "metadata": {
        "id": "5cv3Q8DFmKkf"
      },
      "execution_count": null,
      "outputs": []
    },
    {
      "cell_type": "code",
      "execution_count": null,
      "metadata": {
        "id": "J9tD9yACG6M9"
      },
      "outputs": [],
      "source": [
        "def predict_message(pred_text):\n",
        "    # Preprocess the input text\n",
        "    sequence = tokenizer.texts_to_sequences([pred_text])\n",
        "    padded_sequence = pad_sequences(sequence, maxlen=20, padding='post')\n",
        "\n",
        "    # Predict the class\n",
        "    probability = model.predict(padded_sequence)[0][0]\n",
        "\n",
        "    # Determine label\n",
        "    label = 'spam' if probability > 0.5 else 'ham'\n",
        "    print(label)\n",
        "\n",
        "    return [float(probability), label]\n",
        "\n",
        "# Example usage\n",
        "pred_text = \"how are you doing today?\"\n",
        "prediction = predict_message(pred_text)\n",
        "print(prediction)\n"
      ]
    },
    {
      "cell_type": "code",
      "execution_count": null,
      "metadata": {
        "id": "Dxotov85SjsC"
      },
      "outputs": [],
      "source": [
        "# Run this cell to test your function and model. Do not modify contents.\n",
        "def test_predictions():\n",
        "  test_messages = [\"how are you doing today\",\n",
        "                   \"sale today! to stop texts call 98912460324\",\n",
        "                   \"i dont want to go. can we try it a different day? available sat\",\n",
        "                   \"our new mobile video service is live. just install on your phone to start watching.\",\n",
        "                   \"you have won £1000 cash! call to claim your prize.\",\n",
        "                   \"i'll bring it tomorrow. don't forget the milk.\",\n",
        "                   \"wow, is your arm alright. that happened to me one time too\"\n",
        "                  ]\n",
        "\n",
        "  test_answers = [\"ham\", \"spam\", \"ham\", \"spam\", \"spam\", \"ham\", \"ham\"]\n",
        "  passed = True\n",
        "\n",
        "  for msg, ans in zip(test_messages, test_answers):\n",
        "    prediction = predict_message(msg)\n",
        "    if prediction[1] != ans:\n",
        "      passed = False\n",
        "\n",
        "  if passed:\n",
        "    print(\"You passed the challenge. Great job!\")\n",
        "  else:\n",
        "    print(\"You haven't passed yet. Keep trying.\")\n",
        "\n",
        "test_predictions()\n"
      ]
    }
  ],
  "metadata": {
    "colab": {
      "private_outputs": true,
      "provenance": [],
      "include_colab_link": true
    },
    "kernelspec": {
      "display_name": "Python 3",
      "name": "python3"
    },
    "language_info": {}
  },
  "nbformat": 4,
  "nbformat_minor": 0
}